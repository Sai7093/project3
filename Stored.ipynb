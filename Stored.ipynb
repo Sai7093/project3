{
  "cells": [
    {
      "cell_type": "code",
      "source": [
        "#STORED PROCEDURES"
      ],
      "outputs": [],
      "execution_count": 1,
      "metadata": {
        "collapsed": true,
        "execution": {
          "iopub.execute_input": "2023-09-05T08:48:00.529Z",
          "iopub.status.busy": "2023-09-05T08:48:00.521Z",
          "iopub.status.idle": "2023-09-05T08:48:00.565Z",
          "shell.execute_reply": "2023-09-05T08:48:00.618Z"
        },
        "jupyter": {
          "outputs_hidden": false,
          "source_hidden": false
        },
        "nteract": {
          "transient": {
            "deleting": false
          }
        },
        "trusted": false
      },
      "id": "d8576708-3bbb-4eed-b518-a6bb59cc4c60"
    },
    {
      "cell_type": "code",
      "source": [
        "#BULK DOCS\n",
        "\n",
        "''' function createBulkDocs(numDocs) {\n",
        "  var context = getContext();\n",
        "  var container = context.getCollection();\n",
        "\n",
        "  for (var i = 0; i < numDocs; i++) {\n",
        "    var doc = {\n",
        "      name: generateRandomName(),\n",
        "      cid: 'SAI',\n",
        "      timeModified: new Date().toISOString(),\n",
        "      randomPrice: Math.random() * 1000,\n",
        "    };\n",
        "\n",
        "    container.createDocument(\n",
        "      container.getSelfLink(),\n",
        "      doc,\n",
        "      (error, newDoc) => {\n",
        "        if (error) throw new Error(error.message);\n",
        "      }\n",
        "    );\n",
        "  }\n",
        "\n",
        "  context.getResponse().setBody(\"Bulk documents created successfully.\");\n",
        "}\n",
        "\n",
        "function generateRandomName() {\n",
        "  // Generate a random name using some logic here, e.g., a combination of characters\n",
        "  // and a random number or use a library for more complex random name generation.\n",
        "  return \"RandomName_\" + Math.floor(Math.random() * 1000);\n",
        "}\n",
        "'''"
      ],
      "outputs": [
        {
          "output_type": "error",
          "ename": "SyntaxError",
          "evalue": "invalid syntax (<ipython-input-2-965d4ab7d92a>, line 3)",
          "traceback": [
            "\u001b[0;36m  File \u001b[0;32m\"<ipython-input-2-965d4ab7d92a>\"\u001b[0;36m, line \u001b[0;32m3\u001b[0m\n\u001b[0;31m    function createBulkDocs(numDocs) {\u001b[0m\n\u001b[0m                          ^\u001b[0m\n\u001b[0;31mSyntaxError\u001b[0m\u001b[0;31m:\u001b[0m invalid syntax\n"
          ]
        }
      ],
      "execution_count": 2,
      "metadata": {
        "collapsed": true,
        "execution": {
          "iopub.execute_input": "2023-09-05T08:48:37.179Z",
          "iopub.status.busy": "2023-09-05T08:48:37.156Z"
        },
        "jupyter": {
          "outputs_hidden": false,
          "source_hidden": false
        },
        "nteract": {
          "transient": {
            "deleting": false
          }
        },
        "trusted": false
      },
      "id": "ec3bab24-7666-49f9-b7b2-ec8a217cdeb2"
    },
    {
      "cell_type": "code",
      "source": [
        "#CREATE ITEM\n",
        "\n",
        "'''\n",
        "function createDoc(title) {\n",
        "  var context = getContext();\n",
        "  var container = context.getCollection();\n",
        "  var doc = {\n",
        "    name: title,\n",
        "    cid: 'demo',\n",
        "    timeModified: new Date().toISOString(), // Adding the current timestamp as timeModified\n",
        "    randomPrice: Math.random() * 1000, // Adding a random price between 0 and 1000\n",
        "    extraPropertyName: 'extra property value' // Adding an example of an additional property\n",
        "  };\n",
        "  container.createDocument(\n",
        "    container.getSelfLink(),\n",
        "    doc\n",
        "  );\n",
        "}\n",
        "'''"
      ],
      "outputs": [
        {
          "output_type": "execute_result",
          "execution_count": 3,
          "data": {
            "text/plain": "\"\\nfunction createDoc(title) {\\n  var context = getContext();\\n  var container = context.getCollection();\\n  var doc = {\\n    name: title,\\n    cid: 'demo',\\n    timeModified: new Date().toISOString(), // Adding the current timestamp as timeModified\\n    randomPrice: Math.random() * 1000, // Adding a random price between 0 and 1000\\n    extraPropertyName: 'extra property value' // Adding an example of an additional property\\n  };\\n  container.createDocument(\\n    container.getSelfLink(),\\n    doc\\n  );\\n}\\n\""
          },
          "metadata": {}
        }
      ],
      "execution_count": 3,
      "metadata": {
        "collapsed": true,
        "execution": {
          "iopub.execute_input": "2023-09-05T08:50:51.973Z",
          "iopub.status.busy": "2023-09-05T08:50:51.945Z",
          "iopub.status.idle": "2023-09-05T08:50:52.021Z",
          "shell.execute_reply": "2023-09-05T08:50:51.983Z"
        },
        "jupyter": {
          "outputs_hidden": false,
          "source_hidden": false
        },
        "nteract": {
          "transient": {
            "deleting": false
          }
        },
        "trusted": false
      },
      "id": "6cb46b9a-9945-487a-97e8-130b6de4b76e"
    },
    {
      "cell_type": "code",
      "source": [
        "#DELETE ITEMS\n",
        "\n",
        "'''\n",
        "function deleteItemsByCategory() {\n",
        "    var context = getContext();\n",
        "    var collection = context.getCollection();\n",
        "    var response = context.getResponse();\n",
        "\n",
        "    var query = {\n",
        "        query: \"SELECT * FROM c WHERE c.cid = @categoryId\",\n",
        "        parameters: [{ name: \"@categoryId\", value: \"SAI\" }]\n",
        "    };\n",
        "\n",
        "    var requestOptions = { continuation: null };\n",
        "\n",
        "    collection.queryDocuments(collection.getSelfLink(), query, requestOptions, onQueryComplete);\n",
        "\n",
        "    function onQueryComplete(error, documents, responseOptions) {\n",
        "        if (error) throw new Error(\"Error querying documents: \" + error.message);\n",
        "\n",
        "        if (documents.length > 0) {\n",
        "            deleteNextDocument(documents, 0);\n",
        "        } else {\n",
        "            response.setBody(\"No documents found for deletion.\");\n",
        "        }\n",
        "    }\n",
        "\n",
        "    function deleteNextDocument(documents, index) {\n",
        "        if (index >= documents.length) {\n",
        "            response.setBody(\"All documents deleted successfully.\");\n",
        "            return;\n",
        "        }\n",
        "\n",
        "        var documentLink = documents[index]._self;\n",
        "        collection.deleteDocument(documentLink, {}, onDeleteComplete);\n",
        "\n",
        "        function onDeleteComplete(error, response) {\n",
        "            if (error) throw new Error(\"Error deleting document: \" + error.message);\n",
        "\n",
        "            // Delete the next document in the list\n",
        "            deleteNextDocument(documents, index + 1);\n",
        "        }\n",
        "    }\n",
        "}\n",
        "'''"
      ],
      "outputs": [
        {
          "output_type": "execute_result",
          "execution_count": 4,
          "data": {
            "text/plain": "'\\nfunction deleteItemsByCategory() {\\n    var context = getContext();\\n    var collection = context.getCollection();\\n    var response = context.getResponse();\\n\\n    var query = {\\n        query: \"SELECT * FROM c WHERE c.cid = @categoryId\",\\n        parameters: [{ name: \"@categoryId\", value: \"SAI\" }]\\n    };\\n\\n    var requestOptions = { continuation: null };\\n\\n    collection.queryDocuments(collection.getSelfLink(), query, requestOptions, onQueryComplete);\\n\\n    function onQueryComplete(error, documents, responseOptions) {\\n        if (error) throw new Error(\"Error querying documents: \" + error.message);\\n\\n        if (documents.length > 0) {\\n            deleteNextDocument(documents, 0);\\n        } else {\\n            response.setBody(\"No documents found for deletion.\");\\n        }\\n    }\\n\\n    function deleteNextDocument(documents, index) {\\n        if (index >= documents.length) {\\n            response.setBody(\"All documents deleted successfully.\");\\n            return;\\n        }\\n\\n        var documentLink = documents[index]._self;\\n        collection.deleteDocument(documentLink, {}, onDeleteComplete);\\n\\n        function onDeleteComplete(error, response) {\\n            if (error) throw new Error(\"Error deleting document: \" + error.message);\\n\\n            // Delete the next document in the list\\n            deleteNextDocument(documents, index + 1);\\n        }\\n    }\\n}\\n'"
          },
          "metadata": {}
        }
      ],
      "execution_count": 4,
      "metadata": {
        "collapsed": true,
        "execution": {
          "iopub.execute_input": "2023-09-05T08:51:53.034Z",
          "iopub.status.busy": "2023-09-05T08:51:53.006Z",
          "iopub.status.idle": "2023-09-05T08:51:53.111Z",
          "shell.execute_reply": "2023-09-05T08:51:53.079Z"
        },
        "jupyter": {
          "outputs_hidden": false,
          "source_hidden": false
        },
        "nteract": {
          "transient": {
            "deleting": false
          }
        },
        "trusted": false
      },
      "id": "459dae5d-250a-47d7-8d48-50ef50fa7a9d"
    },
    {
      "cell_type": "code",
      "source": [
        "#TTL\n",
        "\n",
        "''' function setTTLForItemsByCategory() {\n",
        "    var context = getContext();\n",
        "    var collection = context.getCollection();\n",
        "    var response = context.getResponse();\n",
        "\n",
        "    var query = {\n",
        "        query: \"SELECT * FROM c WHERE c.cid = @categoryId\",\n",
        "        parameters: [{ name: \"@categoryId\", value: \"demo\" }]\n",
        "    };\n",
        "\n",
        "    var requestOptions = { continuation: null };\n",
        "\n",
        "    collection.queryDocuments(collection.getSelfLink(), query, requestOptions, onQueryComplete);\n",
        "\n",
        "    function onQueryComplete(error, documents, responseOptions) {\n",
        "        if (error) throw new Error(\"Error querying documents: \" + error.message);\n",
        "\n",
        "        if (documents.length > 0) {\n",
        "            setTTLForNextDocument(documents, 0);\n",
        "        } else {\n",
        "            response.setBody(\"No documents found for updating TTL.\");\n",
        "        }\n",
        "    }\n",
        "\n",
        "    function setTTLForNextDocument(documents, index) {\n",
        "        if (index >= documents.length) {\n",
        "            response.setBody(\"TTL updated for all documents.\");\n",
        "            return;\n",
        "        }\n",
        "\n",
        "        var document = documents[index];\n",
        "        document.ttl = 10; // Set TTL in seconds\n",
        "\n",
        "        collection.replaceDocument(document._self, document, {}, onReplaceComplete);\n",
        "\n",
        "        function onReplaceComplete(error, replacedDocument) {\n",
        "            if (error) throw new Error(\"Error replacing document: \" + error.message);\n",
        "\n",
        "            // Update TTL for the next document in the list\n",
        "            setTTLForNextDocument(documents, index + 1);\n",
        "        }\n",
        "    }\n",
        "}\n",
        "'''"
      ],
      "outputs": [
        {
          "output_type": "execute_result",
          "execution_count": 5,
          "data": {
            "text/plain": "' function setTTLForItemsByCategory() {\\n    var context = getContext();\\n    var collection = context.getCollection();\\n    var response = context.getResponse();\\n\\n    var query = {\\n        query: \"SELECT * FROM c WHERE c.cid = @categoryId\",\\n        parameters: [{ name: \"@categoryId\", value: \"demo\" }]\\n    };\\n\\n    var requestOptions = { continuation: null };\\n\\n    collection.queryDocuments(collection.getSelfLink(), query, requestOptions, onQueryComplete);\\n\\n    function onQueryComplete(error, documents, responseOptions) {\\n        if (error) throw new Error(\"Error querying documents: \" + error.message);\\n\\n        if (documents.length > 0) {\\n            setTTLForNextDocument(documents, 0);\\n        } else {\\n            response.setBody(\"No documents found for updating TTL.\");\\n        }\\n    }\\n\\n    function setTTLForNextDocument(documents, index) {\\n        if (index >= documents.length) {\\n            response.setBody(\"TTL updated for all documents.\");\\n            return;\\n        }\\n\\n        var document = documents[index];\\n        document.ttl = 10; // Set TTL in seconds\\n\\n        collection.replaceDocument(document._self, document, {}, onReplaceComplete);\\n\\n        function onReplaceComplete(error, replacedDocument) {\\n            if (error) throw new Error(\"Error replacing document: \" + error.message);\\n\\n            // Update TTL for the next document in the list\\n            setTTLForNextDocument(documents, index + 1);\\n        }\\n    }\\n}\\n'"
          },
          "metadata": {}
        }
      ],
      "execution_count": 5,
      "metadata": {
        "collapsed": true,
        "execution": {
          "iopub.execute_input": "2023-09-05T08:52:24.653Z",
          "iopub.status.busy": "2023-09-05T08:52:24.603Z",
          "iopub.status.idle": "2023-09-05T08:52:24.706Z",
          "shell.execute_reply": "2023-09-05T08:52:24.666Z"
        },
        "jupyter": {
          "outputs_hidden": false,
          "source_hidden": false
        },
        "nteract": {
          "transient": {
            "deleting": false
          }
        },
        "trusted": false
      },
      "id": "28e10e4e-495e-414a-8d8b-2129a14365b8"
    },
    {
      "cell_type": "code",
      "source": [
        "#Create doc with TTL\n",
        "\n",
        "''' function createDoc(title) {\n",
        "  var context = getContext();\n",
        "  var container = context.getCollection();\n",
        "  var doc = {\n",
        "    name: title,\n",
        "    cid: 'har',\n",
        "    timeModified: new Date().toISOString(), // Adding the current timestamp as timeModified\n",
        "    randomPrice: Math.random() * 1000, // Adding a random price between 0 and 1000\n",
        "    extraPropertyName: 'extra property value' ,// Adding an example of an additional property\n",
        "    ttl: 30\n",
        "  };\n",
        "  container.createDocument(\n",
        "    container.getSelfLink(),\n",
        "    doc\n",
        "  );\n",
        "}\n",
        "'''"
      ],
      "outputs": [
        {
          "output_type": "execute_result",
          "execution_count": 6,
          "data": {
            "text/plain": "\" function createDoc(title) {\\n  var context = getContext();\\n  var container = context.getCollection();\\n  var doc = {\\n    name: title,\\n    cid: 'har',\\n    timeModified: new Date().toISOString(), // Adding the current timestamp as timeModified\\n    randomPrice: Math.random() * 1000, // Adding a random price between 0 and 1000\\n    extraPropertyName: 'extra property value' ,// Adding an example of an additional property\\n    ttl: 30\\n  };\\n  container.createDocument(\\n    container.getSelfLink(),\\n    doc\\n  );\\n}\\n\""
          },
          "metadata": {}
        }
      ],
      "execution_count": 6,
      "metadata": {
        "collapsed": true,
        "execution": {
          "iopub.execute_input": "2023-09-05T08:53:36.447Z",
          "iopub.status.busy": "2023-09-05T08:53:36.423Z",
          "iopub.status.idle": "2023-09-05T08:53:36.513Z",
          "shell.execute_reply": "2023-09-05T08:53:36.565Z"
        },
        "jupyter": {
          "outputs_hidden": false,
          "source_hidden": false
        },
        "nteract": {
          "transient": {
            "deleting": false
          }
        },
        "trusted": false
      },
      "id": "10f17769-c7be-44f1-aced-69e4118b1300"
    },
    {
      "cell_type": "code",
      "source": [
        "UDF ADDTAX\n",
        "\n",
        "''' function addTax(preTax) {\n",
        "    return preTax * 1.15;\n",
        "}\n",
        "// SELECT p.id, p.price, udf.addTax(p.randomPrice) AS priceWithTax FROM cont1 p //'''"
      ],
      "outputs": [],
      "execution_count": null,
      "metadata": {
        "collapsed": true,
        "jupyter": {
          "outputs_hidden": false,
          "source_hidden": false
        },
        "nteract": {
          "transient": {
            "deleting": false
          }
        },
        "trusted": false
      },
      "id": "03b82979-527b-4079-b97e-3bf831a10371"
    }
  ],
  "metadata": {
    "language_info": {
      "name": "python",
      "version": "3.7",
      "mimetype": "application/json",
      "file_extension": "ipynb"
    },
    "nteract": {
      "version": "dataExplorer 1.0"
    }
  },
  "nbformat": 4,
  "nbformat_minor": 5
}