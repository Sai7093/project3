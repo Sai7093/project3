{
  "cells": [
    {
      "cell_type": "code",
      "source": [
        "use mydatabase\n"
      ],
      "outputs": [],
      "execution_count": null,
      "metadata": {
        "id": "5BD1LGwkkbJ7"
      }
    },
    {
      "cell_type": "code",
      "source": [
        "db.collectionName.insertOne({ key: \"value\" })\n",
        "db.collectionName.insertMany([{ key1: \"value1\" }, { key2: \"value2\" }])\n"
      ],
      "outputs": [],
      "execution_count": null,
      "metadata": {
        "id": "1bPUff9rkeXS"
      }
    },
    {
      "cell_type": "code",
      "source": [
        "db.collectionName.deleteOne({ key: \"value\" })\n",
        "db.collectionName.deleteMany({ key: \"value\" })\n"
      ],
      "outputs": [],
      "execution_count": null,
      "metadata": {
        "id": "P28mHjlakhWl"
      }
    },
    {
      "cell_type": "code",
      "source": [
        "db.collectionName.updateOne({ key: \"value\" }, { $set: { newKey: \"newValue\" } })\n",
        "db.collectionName.updateMany({ key: \"value\" }, { $set: { newKey: \"newValue\" } })\n"
      ],
      "outputs": [],
      "execution_count": null,
      "metadata": {
        "id": "HjaX9w94klun"
      }
    },
    {
      "cell_type": "code",
      "source": [
        "db.collectionName.find({ key: \"value\" })\n",
        "db.collectionName.find({ key: \"value\" }).sort({ sortKey: 1 }) // 1 for ascending, -1 for descending\n"
      ],
      "outputs": [],
      "execution_count": null,
      "metadata": {
        "id": "imLaOm2dkoiY"
      }
    },
    {
      "cell_type": "code",
      "source": [
        "db.collectionName.drop()\n"
      ],
      "outputs": [],
      "execution_count": null,
      "metadata": {
        "id": "6TlAwoSIlC2c"
      }
    },
    {
      "cell_type": "markdown",
      "source": [],
      "metadata": {
        "id": "AMNsiQ63lDiq"
      }
    },
    {
      "cell_type": "code",
      "source": [
        "use mydatabase\n",
        "db.dropDatabase()\n"
      ],
      "outputs": [],
      "execution_count": null,
      "metadata": {
        "id": "zrbKsI1slFMe"
      }
    }
  ],
  "metadata": {
    "colab": {
      "provenance": [],
      "authorship_tag": "ABX9TyOZtIjugcfX/3kv5e5I+qAA",
      "include_colab_link": true
    },
    "kernelspec": {
      "name": "python3",
      "display_name": "Python 3"
    },
    "language_info": {
      "name": "python",
      "version": "3.7",
      "mimetype": "application/json",
      "file_extension": "ipynb"
    },
    "nteract": {
      "version": "dataExplorer 1.0"
    }
  },
  "nbformat": 4,
  "nbformat_minor": 0
}