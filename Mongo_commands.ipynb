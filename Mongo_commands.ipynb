{
  "nbformat": 4,
  "nbformat_minor": 0,
  "metadata": {
    "colab": {
      "provenance": [],
      "authorship_tag": "ABX9TyOZtIjugcfX/3kv5e5I+qAA",
      "include_colab_link": true
    },
    "kernelspec": {
      "name": "python3",
      "display_name": "Python 3"
    },
    "language_info": {
      "name": "python"
    }
  },
  "cells": [
    {
      "cell_type": "markdown",
      "metadata": {
        "id": "view-in-github",
        "colab_type": "text"
      },
      "source": [
        "<a href=\"https://colab.research.google.com/github/Sai7093/project3/blob/main/Mongo_commands.ipynb\" target=\"_parent\"><img src=\"https://colab.research.google.com/assets/colab-badge.svg\" alt=\"Open In Colab\"/></a>"
      ]
    },
    {
      "cell_type": "code",
      "source": [
        "use mydatabase\n"
      ],
      "metadata": {
        "id": "5BD1LGwkkbJ7"
      },
      "execution_count": null,
      "outputs": []
    },
    {
      "cell_type": "code",
      "source": [
        "db.collectionName.insertOne({ key: \"value\" })\n",
        "db.collectionName.insertMany([{ key1: \"value1\" }, { key2: \"value2\" }])\n"
      ],
      "metadata": {
        "id": "1bPUff9rkeXS"
      },
      "execution_count": null,
      "outputs": []
    },
    {
      "cell_type": "code",
      "source": [
        "db.collectionName.deleteOne({ key: \"value\" })\n",
        "db.collectionName.deleteMany({ key: \"value\" })\n"
      ],
      "metadata": {
        "id": "P28mHjlakhWl"
      },
      "execution_count": null,
      "outputs": []
    },
    {
      "cell_type": "code",
      "source": [
        "db.collectionName.updateOne({ key: \"value\" }, { $set: { newKey: \"newValue\" } })\n",
        "db.collectionName.updateMany({ key: \"value\" }, { $set: { newKey: \"newValue\" } })\n"
      ],
      "metadata": {
        "id": "HjaX9w94klun"
      },
      "execution_count": null,
      "outputs": []
    },
    {
      "cell_type": "code",
      "source": [
        "db.collectionName.find({ key: \"value\" })\n",
        "db.collectionName.find({ key: \"value\" }).sort({ sortKey: 1 }) // 1 for ascending, -1 for descending\n"
      ],
      "metadata": {
        "id": "imLaOm2dkoiY"
      },
      "execution_count": null,
      "outputs": []
    },
    {
      "cell_type": "code",
      "source": [
        "db.collectionName.drop()\n"
      ],
      "metadata": {
        "id": "6TlAwoSIlC2c"
      },
      "execution_count": null,
      "outputs": []
    },
    {
      "cell_type": "markdown",
      "source": [],
      "metadata": {
        "id": "AMNsiQ63lDiq"
      }
    },
    {
      "cell_type": "code",
      "source": [
        "use mydatabase\n",
        "db.dropDatabase()\n"
      ],
      "metadata": {
        "id": "zrbKsI1slFMe"
      },
      "execution_count": null,
      "outputs": []
    }
  ]
}