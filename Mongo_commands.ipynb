{
  "nbformat": 4,
  "nbformat_minor": 0,
  "metadata": {
    "colab": {
      "provenance": [],
      "authorship_tag": "ABX9TyOkQhgVpUraVryf/kOJPbUR",
      "include_colab_link": true
    },
    "kernelspec": {
      "name": "python3",
      "display_name": "Python 3"
    },
    "language_info": {
      "name": "python"
    }
  },
  "cells": [
    {
      "cell_type": "markdown",
      "metadata": {
        "id": "view-in-github",
        "colab_type": "text"
      },
      "source": [
        "<a href=\"https://colab.research.google.com/github/Sai7093/project3/blob/main/Mongo_commands.ipynb\" target=\"_parent\"><img src=\"https://colab.research.google.com/assets/colab-badge.svg\" alt=\"Open In Colab\"/></a>"
      ]
    },
    {
      "cell_type": "code",
      "execution_count": null,
      "metadata": {
        "id": "-_aCax-ah2Es"
      },
      "outputs": [],
      "source": [
        "\" show dbs\n",
        "\""
      ]
    },
    {
      "cell_type": "code",
      "source": [
        "\" use databaseName\n",
        "\""
      ],
      "metadata": {
        "id": "NiECx0HUinxu"
      },
      "execution_count": null,
      "outputs": []
    },
    {
      "cell_type": "code",
      "source": [
        "\" show collections\n",
        "\""
      ],
      "metadata": {
        "id": "FQcPDhbYiqnD"
      },
      "execution_count": null,
      "outputs": []
    },
    {
      "cell_type": "code",
      "source": [
        "db.collectionName.drop()\n"
      ],
      "metadata": {
        "id": "7se7qzBtjJlU"
      },
      "execution_count": null,
      "outputs": []
    },
    {
      "cell_type": "code",
      "source": [
        "db.dropDatabase()\n"
      ],
      "metadata": {
        "id": "--cuVmY7jLBf"
      },
      "execution_count": null,
      "outputs": []
    },
    {
      "cell_type": "code",
      "source": [
        "exit\n"
      ],
      "metadata": {
        "id": "LKXJhoUcjOVX"
      },
      "execution_count": null,
      "outputs": []
    },
    {
      "cell_type": "code",
      "source": [
        "\" db.collectionName.insert({ key: value })\n",
        "\""
      ],
      "metadata": {
        "id": "sZ5NsagaitPn"
      },
      "execution_count": null,
      "outputs": []
    },
    {
      "cell_type": "code",
      "source": [
        "\"db.collectionName.update({ key: value }, { $set: { newKey: newValue } })\"\n"
      ],
      "metadata": {
        "id": "FLRumREZi382"
      },
      "execution_count": null,
      "outputs": []
    },
    {
      "cell_type": "code",
      "source": [
        "\" db.collectionName.remove({ key: value })\n",
        "\""
      ],
      "metadata": {
        "id": "zKhm6G3Ri89z"
      },
      "execution_count": null,
      "outputs": []
    },
    {
      "cell_type": "code",
      "source": [
        "\" db.collectionName.count()\n",
        "\""
      ],
      "metadata": {
        "id": "tPdVuLuWi_um"
      },
      "execution_count": null,
      "outputs": []
    }
  ]
}