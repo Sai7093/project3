{
  "nbformat": 4,
  "nbformat_minor": 0,
  "metadata": {
    "colab": {
      "provenance": [],
      "authorship_tag": "ABX9TyOzbj5Aebi0edEnNaf3FbOQ",
      "include_colab_link": true
    },
    "kernelspec": {
      "name": "python3",
      "display_name": "Python 3"
    },
    "language_info": {
      "name": "python"
    }
  },
  "cells": [
    {
      "cell_type": "markdown",
      "metadata": {
        "id": "view-in-github",
        "colab_type": "text"
      },
      "source": [
        "<a href=\"https://colab.research.google.com/github/Sai7093/project3/blob/main/Untitled10.ipynb\" target=\"_parent\"><img src=\"https://colab.research.google.com/assets/colab-badge.svg\" alt=\"Open In Colab\"/></a>"
      ]
    },
    {
      "cell_type": "code",
      "execution_count": null,
      "metadata": {
        "id": "uNbAnWCFVOxP"
      },
      "outputs": [],
      "source": [
        "spGetProductsByCategory\n",
        "\n",
        "\n",
        "{\n",
        "    \"id\": \"unique_product_id\",\n",
        "    \"name\": \"Product Name\",\n",
        "    \"category\": \"Product Category\",\n",
        "    \"price\": 29.99,\n",
        "    \"stock\": 100\n",
        "    // other product properties...\n",
        "}\n",
        "\n",
        "\n"
      ]
    },
    {
      "cell_type": "code",
      "source": [
        "function spGetProductsByCategory(category) {\n",
        "    var collection = getContext().getCollection();\n",
        "    var response = getContext().getResponse();\n",
        "\n",
        "    // Query to retrieve all documents in the collection\n",
        "    var query = {\n",
        "        query: \"SELECT * FROM Products p WHERE p.category = @category\",\n",
        "        parameters: [{ name: \"@category\", value: category }]\n",
        "    };\n",
        "\n",
        "    // Read the documents and filter by category\n",
        "    var isAccepted = collection.queryDocuments(\n",
        "        collection.getSelfLink(),\n",
        "        query,\n",
        "        function (err, documents) {\n",
        "            if (err) throw err;\n",
        "\n",
        "            // Respond with the filtered documents\n",
        "            response.setBody(JSON.stringify(documents));\n",
        "        }\n",
        "    );\n",
        "\n",
        "    if (!isAccepted) throw new Error(\"The query was not accepted by the server.\");\n",
        "}\n"
      ],
      "metadata": {
        "id": "U15DCWtUVZOY"
      },
      "execution_count": null,
      "outputs": []
    },
    {
      "cell_type": "code",
      "source": [
        "##TESTING\n",
        "\n",
        "const { CosmosClient } = require(\"@azure/cosmos\");\n",
        "\n",
        "const endpoint = \"YOUR_COSMOS_DB_ENDPOINT\";\n",
        "const key = \"YOUR_COSMOS_DB_KEY\";\n",
        "const databaseId = \"MyDatabase\";\n",
        "const containerId = \"Products\";\n",
        "\n",
        "const client = new CosmosClient({ endpoint, key });\n",
        "const container = client.database(databaseId).container(containerId);\n",
        "\n",
        "const category = \"Electronics\";\n",
        "\n",
        "const { resources: products } = await container.storedProcedure(\"spGetProductsByCategory\").execute(category);\n",
        "console.log(products);\n"
      ],
      "metadata": {
        "id": "LqlxCB2MVaRH"
      },
      "execution_count": null,
      "outputs": []
    },
    {
      "cell_type": "code",
      "source": [],
      "metadata": {
        "id": "s9_FcA_dVhbv"
      },
      "execution_count": null,
      "outputs": []
    }
  ]
}