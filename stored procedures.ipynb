{
  "cells": [
    {
      "cell_type": "code",
      "source": [
        "Setting\tValue\n",
        "Database id\tCreate new | cosmicworks\n",
        "Share throughput across containers\tSelect this option\n",
        "Database throughput\tManual | 400\n",
        "Container id\tproducts\n",
        "Indexing\tAutomatic\n",
        "Partition key\t/categoryId\n",
        "\n",
        "Select New Stored Procedure.\n",
        "\n",
        "In the Stored Procedure Id field, enter the value createDoc.\n",
        "\n",
        "Delete the contents of the editor area.\n",
        "\n",
        "Create a new JavaScript function named createDoc with no input parameters:\n",
        "  \n",
        "  \n",
        "  function createDoc() {\n",
        "  var context = getContext();\n",
        "  var container = context.getCollection();\n",
        "  var doc = {\n",
        "    name: 'first document',\n",
        "    categoryId: 'demo'\n",
        "  };\n",
        "  container.createDocument(\n",
        "    container.getSelfLink(),\n",
        "    doc\n",
        "  );\n",
        "}\n",
        "  \n",
        "  \n",
        " Select Execute and then execute the stored procedure using the following input parameters:\n",
        "\n",
        "Setting\tKey\tValue\n",
        "Partition key value\tString\tdemo\n",
        "\n",
        "Observe the empty result. While the stored procedure executed successfully, the JavaScript code never returned a human-readable response.\n",
        "\n",
        "function createDoc(title) {\n",
        "  var context = getContext();\n",
        "  var container = context.getCollection();\n",
        "  var doc = {\n",
        "    name: title,\n",
        "    categoryId: 'demo'\n",
        "  }\n",
        "  var accepted = container.createDocument(\n",
        "    container.getSelfLink(),\n",
        "    doc,\n",
        "    (error, newDoc) => {\n",
        "      if (error) throw new Error(error.message);\n",
        "      context.getResponse().setBody(newDoc);\n",
        "    }\n",
        "  );\n",
        "  if (!accepted) return;\n",
        "}\n",
        "\n",
        "\n",
        "Select Update to persist the changes to the stored procedure.\n",
        "\n",
        "Select Execute and then execute the stored procedure using the following input parameters:\n",
        "\n",
        "Setting\tKey\tValue\n",
        "Partition key value\tString\tdemo\n",
        "Input parameters\tString\tsecond document\n",
        "\n",
        "Select New SQL Query.\n",
        "\n",
        "Delete the contents of the editor area.\n",
        "\n",
        "Create a new SQL query that will return all documents where the categoryId is equivalent to demo:\n",
        "\n",
        "SELECT * FROM docs WHERE docs.categoryId = 'demo'"
      ],
      "outputs": [],
      "execution_count": null,
      "metadata": {
        "collapsed": true,
        "jupyter": {
          "source_hidden": false,
          "outputs_hidden": false
        },
        "nteract": {
          "transient": {
            "deleting": false
          }
        }
      },
      "id": "79456d5a-5078-42ec-bf80-de5b544a9658"
    }
  ],
  "metadata": {
    "language_info": {
      "name": "python",
      "version": "3.7",
      "mimetype": "application/json",
      "file_extension": "ipynb"
    }
  },
  "nbformat": 4,
  "nbformat_minor": 5
}